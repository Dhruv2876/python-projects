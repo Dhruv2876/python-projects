{
 "cells": [
  {
   "cell_type": "code",
   "execution_count": 1,
   "metadata": {},
   "outputs": [
    {
     "name": "stdout",
     "output_type": "stream",
     "text": [
      "(1, 2, 3, 4, 5, 6)\n"
     ]
    }
   ],
   "source": [
    "set1=(1,2,3,4,5,6)\n",
    "print(set1)"
   ]
  },
  {
   "cell_type": "code",
   "execution_count": 2,
   "id": "cc1ac550",
   "metadata": {},
   "outputs": [
    {
     "name": "stdout",
     "output_type": "stream",
     "text": [
      "30\n"
     ]
    }
   ],
   "source": [
    "a=10\n",
    "b=20\n",
    "c=a+b\n",
    "print(c)"
   ]
  },
  {
   "cell_type": "code",
   "execution_count": 3,
   "id": "f0140ed0",
   "metadata": {},
   "outputs": [
    {
     "name": "stdout",
     "output_type": "stream",
     "text": [
      "5\n"
     ]
    }
   ],
   "source": [
    "for i in range(1,11):\n",
    "    if i==5:\n",
    "        print(i)"
   ]
  },
  {
   "cell_type": "code",
   "execution_count": 4,
   "id": "e4add0fe",
   "metadata": {},
   "outputs": [
    {
     "name": "stdout",
     "output_type": "stream",
     "text": [
      "2\n",
      "4\n",
      "6\n",
      "8\n",
      "10\n"
     ]
    }
   ],
   "source": [
    "for i in range(1,11):\n",
    "    if i%2==0:\n",
    "        print(i)"
   ]
  },
  {
   "cell_type": "code",
   "execution_count": 5,
   "id": "10119414",
   "metadata": {},
   "outputs": [
    {
     "name": "stdout",
     "output_type": "stream",
     "text": [
      "4\n",
      "8\n",
      "12\n",
      "16\n"
     ]
    }
   ],
   "source": [
    "for i in range(1,20):\n",
    "    if i%4==0:\n",
    "        print(i)"
   ]
  },
  {
   "cell_type": "code",
   "execution_count": 6,
   "id": "a3b200fa",
   "metadata": {},
   "outputs": [
    {
     "name": "stdout",
     "output_type": "stream",
     "text": [
      "hello world\n"
     ]
    }
   ],
   "source": [
    "print(\"hello world\")"
   ]
  },
  {
   "cell_type": "code",
   "execution_count": null,
   "id": "695d7509",
   "metadata": {},
   "outputs": [],
   "source": [
    "num=int(input(\"enter the number\"))\n",
    "for i in range(1,num=1):\n",
    "    if i%2==0:\n",
    "        print(i)"
   ]
  },
  {
   "cell_type": "code",
   "execution_count": null,
   "id": "31d1f96d",
   "metadata": {},
   "outputs": [
    {
     "name": "stdout",
     "output_type": "stream",
     "text": [
      "{'name': 'dhruv', 'age': '18', 'surname': 'singh'}\n",
      "<class 'dict'>\n"
     ]
    }
   ],
   "source": [
    "student={\"name\":\"dhruv\",\"age\":\"18\",\"surname\":\"singh\"}\n",
    "print(student)\n",
    "print(type(student))"
   ]
  },
  {
   "cell_type": "code",
   "execution_count": null,
   "id": "f2a4f27d",
   "metadata": {},
   "outputs": [],
   "source": []
  },
  {
   "cell_type": "code",
   "execution_count": null,
   "id": "8d2c728a",
   "metadata": {},
   "outputs": [
    {
     "name": "stdout",
     "output_type": "stream",
     "text": [
      "{'name': 'dhruv', 'age': '18', 'surname': 'singh'}\n"
     ]
    }
   ],
   "source": [
    "student={\"name\":\"dhruv\",\"age\":\"18\",\"surname\":\"singh\"}\n",
    "print(student)"
   ]
  },
  {
   "cell_type": "code",
   "execution_count": null,
   "id": "c360718f",
   "metadata": {},
   "outputs": [
    {
     "name": "stdout",
     "output_type": "stream",
     "text": [
      "{'name': 'dhruv', 'age': '18'}\n"
     ]
    }
   ],
   "source": [
    "del student['surname']\n",
    "print(student)"
   ]
  },
  {
   "cell_type": "code",
   "execution_count": null,
   "id": "ff4ac5d9",
   "metadata": {},
   "outputs": [],
   "source": [
    "student['age']=(33)\n",
    "print(student)\n",
    "student['address']=('india')\n",
    "print(student)"
   ]
  },
  {
   "cell_type": "code",
   "execution_count": null,
   "id": "2b7ea6a6",
   "metadata": {},
   "outputs": [
    {
     "name": "stdout",
     "output_type": "stream",
     "text": [
      "name\n",
      "age\n",
      "surname\n",
      "dhruv\n",
      "18\n",
      "singh\n",
      "name:dhruv\n",
      "age:18\n",
      "surname:singh\n"
     ]
    }
   ],
   "source": [
    "student={\"name\":\"dhruv\",\"age\":\"18\",\"surname\":\"singh\"}\n",
    "for keys in student.keys():\n",
    "    print(keys)\n",
    "\n",
    "for values in student.values():\n",
    "    print(values)\n",
    "\n",
    "for keys,values in student.items():\n",
    "    print(f\"{keys}:{values}\")"
   ]
  },
  {
   "cell_type": "code",
   "execution_count": null,
   "id": "43eb8608",
   "metadata": {},
   "outputs": [
    {
     "name": "stdout",
     "output_type": "stream",
     "text": [
      "name\n",
      "age\n",
      "surname\n",
      "dhruv\n",
      "19\n",
      "singh\n",
      "name:dhruv\n",
      "age:19\n",
      "surname:singh\n"
     ]
    }
   ],
   "source": [
    "student={\"name\":\"dhruv\",\"age\":\"19\",\"surname\":\"singh\"}\n",
    "for keys in student.keys():\n",
    "    print(keys)\n",
    "for values in student.values():\n",
    "    print(values)\n",
    "\n",
    "\n",
    "for keys,values in student.items():\n",
    "    print(f\"{keys}:{values}\")"
   ]
  },
  {
   "cell_type": "code",
   "execution_count": null,
   "id": "5fc14b86",
   "metadata": {},
   "outputs": [],
   "source": []
  },
  {
   "cell_type": "code",
   "execution_count": null,
   "id": "2c5aeb57",
   "metadata": {},
   "outputs": [
    {
     "name": "stdout",
     "output_type": "stream",
     "text": [
      "{0: 0, 2: 4, 4: 8, 6: 12, 8: 16}\n"
     ]
    }
   ],
   "source": [
    "num={x: x*2 for x in range(10) if x%2==0}\n",
    "print(num)"
   ]
  },
  {
   "cell_type": "code",
   "execution_count": null,
   "id": "0568c1dd",
   "metadata": {},
   "outputs": [
    {
     "name": "stdout",
     "output_type": "stream",
     "text": [
      "{'a': 1, 'b': 2, 'c': 3, 'd': 4}\n"
     ]
    }
   ],
   "source": [
    "dict1={\"a\":1,\"b\":2}\n",
    "dict2={\"c\":3,\"d\":4}\n",
    "merge_dict={**dict1,**dict2}\n",
    "print(merge_dict)"
   ]
  },
  {
   "cell_type": "code",
   "execution_count": null,
   "id": "b2f00a30",
   "metadata": {},
   "outputs": [
    {
     "name": "stdout",
     "output_type": "stream",
     "text": [
      "[76, 87, 78, 90, 80, 88]\n",
      "83.16666666666667\n",
      "90\n",
      "76\n"
     ]
    }
   ],
   "source": [
    "grades=[76,87,78,90,80]\n",
    "grades.append(88)\n",
    "print(grades)\n",
    "average_grades=sum(grades)/len(grades)\n",
    "print(average_grades)\n",
    "highest_value= max(grades)\n",
    "print(highest_value)\n",
    "lowest_value= min(grades)\n",
    "print(lowest_value)\n"
   ]
  },
  {
   "cell_type": "code",
   "execution_count": null,
   "id": "6f196f6a",
   "metadata": {},
   "outputs": [
    {
     "name": "stdout",
     "output_type": "stream",
     "text": [
      "orange\n",
      "['apples', 'oranges', 'strawberry', 'mangoes', 'grapes', 'lichi', 'guava']\n",
      "['apples', 'oranges', 'mangoes', 'grapes', 'lichi', 'guava']\n",
      "items in stock\n"
     ]
    }
   ],
   "source": [
    "items1=['apples','oranges','strawberry','mangoes','grapes']\n",
    "items1.append(\"lichi\")\n",
    "print(items)\n",
    "items1.append(\"guava\")\n",
    "print(items1)\n",
    "items1.remove(\"strawberry\")\n",
    "print(items1)\n",
    "items1=\"orange\"\n",
    "if items1 in items1:\n",
    "    print(\"items in stock\")\n",
    "else:\n",
    "    print(\"items is not in stock\")\n"
   ]
  },
  {
   "cell_type": "code",
   "execution_count": null,
   "id": "ac69468d",
   "metadata": {},
   "outputs": [
    {
     "name": "stdout",
     "output_type": "stream",
     "text": [
      "num is even\n"
     ]
    }
   ],
   "source": [
    "def even_andodd(num):\n",
    "    if num%2==0:\n",
    "        print(\"num is even\")\n",
    "    else:\n",
    "        print(\"num is odd\")\n",
    "\n",
    "even_andodd(24)"
   ]
  },
  {
   "cell_type": "code",
   "execution_count": null,
   "id": "c3570dea",
   "metadata": {},
   "outputs": [
    {
     "name": "stdout",
     "output_type": "stream",
     "text": [
      "6\n"
     ]
    }
   ],
   "source": [
    "def add(a,b):\n",
    "    return a+b\n",
    "result=add(2,4)\n",
    "print(result)"
   ]
  },
  {
   "cell_type": "code",
   "execution_count": null,
   "id": "93451eba",
   "metadata": {},
   "outputs": [
    {
     "name": "stdout",
     "output_type": "stream",
     "text": [
      "hello Dhruv Welcome to the pent house\n"
     ]
    }
   ],
   "source": [
    "def greet(name):\n",
    "    print(f\"hello {name} Welcome to the pent house\")\n",
    "\n",
    "greet(\"Dhruv\")"
   ]
  },
  {
   "cell_type": "code",
   "execution_count": null,
   "id": "3a891f15",
   "metadata": {},
   "outputs": [
    {
     "data": {
      "text/plain": [
       "(0, 6, 3)"
      ]
     },
     "execution_count": 15,
     "metadata": {},
     "output_type": "execute_result"
    }
   ],
   "source": [
    "def multiply(a,b):\n",
    "    return(a%b,a,b)\n",
    "\n",
    "multiply(6,3)"
   ]
  },
  {
   "cell_type": "code",
   "execution_count": null,
   "id": "d7e4c9fd",
   "metadata": {},
   "outputs": [],
   "source": [
    "def convert_temperature(temp,unit):\n",
    "    if unit=='C':\n",
    "        return temp*9/5 +32\n",
    "    elif unit=='F':\n",
    "        return (temp-32)*5/9\n",
    "    else:\n",
    "        return None\n"
   ]
  },
  {
   "cell_type": "code",
   "execution_count": null,
   "id": "5ae38997",
   "metadata": {},
   "outputs": [
    {
     "name": "stdout",
     "output_type": "stream",
     "text": [
      "11\n"
     ]
    }
   ],
   "source": [
    "def add(a,b):\n",
    "    return a+b\n",
    "addition=lambda a,b:a+b\n",
    "type(addition)\n",
    "print(addition(4,7))"
   ]
  },
  {
   "cell_type": "code",
   "execution_count": null,
   "id": "ab256e0c",
   "metadata": {},
   "outputs": [
    {
     "name": "stdout",
     "output_type": "stream",
     "text": [
      "11\n"
     ]
    }
   ],
   "source": [
    "def add(a,b):\n",
    "    return a+b\n",
    "\n",
    "print(addition(4,7))"
   ]
  },
  {
   "cell_type": "code",
   "execution_count": null,
   "id": "7a0320cd",
   "metadata": {},
   "outputs": [
    {
     "name": "stdout",
     "output_type": "stream",
     "text": [
      "45\n"
     ]
    }
   ],
   "source": [
    "#Sum of List Elements\n",
    "list=[1,2,3,4,5,6,7,8,9]\n",
    "l=sum(list)\n",
    "print(l)"
   ]
  },
  {
   "cell_type": "code",
   "execution_count": null,
   "id": "3a9601d4",
   "metadata": {},
   "outputs": [
    {
     "name": "stdout",
     "output_type": "stream",
     "text": [
      "97\n"
     ]
    }
   ],
   "source": [
    "#larger number is list\n",
    "list=[43,21,65,47,87,97,78,90]\n",
    "highest_value=max(list)\n",
    "print(highest_value)"
   ]
  },
  {
   "cell_type": "code",
   "execution_count": null,
   "id": "6bf88b9b",
   "metadata": {},
   "outputs": [
    {
     "data": {
      "text/plain": [
       "16.0"
      ]
     },
     "execution_count": 10,
     "metadata": {},
     "output_type": "execute_result"
    }
   ],
   "source": [
    "import math\n",
    "math.sqrt(256)"
   ]
  },
  {
   "cell_type": "code",
   "execution_count": null,
   "id": "6ab85a60",
   "metadata": {},
   "outputs": [
    {
     "name": "stdout",
     "output_type": "stream",
     "text": [
      "13.0\n",
      "15.0\n",
      "3.141592653589793\n"
     ]
    }
   ],
   "source": [
    "from math import sqrt,pi\n",
    "print(sqrt(169))\n",
    "print(sqrt(225))\n",
    "print(pi)"
   ]
  },
  {
   "cell_type": "code",
   "execution_count": null,
   "id": "d7b60b32",
   "metadata": {},
   "outputs": [
    {
     "data": {
      "text/plain": [
       "13"
      ]
     },
     "execution_count": 15,
     "metadata": {},
     "output_type": "execute_result"
    }
   ],
   "source": [
    "def addition(a,b):\n",
    "    return a+b\n",
    "addition(5,8)"
   ]
  },
  {
   "cell_type": "code",
   "execution_count": 4,
   "id": "16cc8b69",
   "metadata": {},
   "outputs": [
    {
     "data": {
      "text/plain": [
       "60"
      ]
     },
     "execution_count": 4,
     "metadata": {},
     "output_type": "execute_result"
    }
   ],
   "source": [
    "def multiply(a,b):\n",
    "    return a*b\n",
    "multiply(4,15)"
   ]
  },
  {
   "cell_type": "code",
   "execution_count": 6,
   "id": "a08384d8",
   "metadata": {},
   "outputs": [
    {
     "name": "stdout",
     "output_type": "stream",
     "text": [
      "15\n"
     ]
    }
   ],
   "source": [
    "import math\n",
    "print(multiply(3,5))"
   ]
  },
  {
   "cell_type": "code",
   "execution_count": 8,
   "id": "e453a91b",
   "metadata": {},
   "outputs": [
    {
     "data": {
      "text/plain": [
       "35.0"
      ]
     },
     "execution_count": 8,
     "metadata": {},
     "output_type": "execute_result"
    }
   ],
   "source": [
    "import math\n",
    "math.sqrt(1225)"
   ]
  },
  {
   "cell_type": "code",
   "execution_count": 18,
   "id": "7224f825",
   "metadata": {},
   "outputs": [
    {
     "name": "stdout",
     "output_type": "stream",
     "text": [
      "9\n",
      "mango\n"
     ]
    }
   ],
   "source": [
    "# random module\n",
    "import random\n",
    "print(random.randint(1,10))\n",
    "print(random.choice([\"apple\",\"cherry\",\"mango\"]))"
   ]
  },
  {
   "cell_type": "code",
   "execution_count": 27,
   "id": "de11eb96",
   "metadata": {},
   "outputs": [
    {
     "name": "stdout",
     "output_type": "stream",
     "text": [
      "['name', 'age', 'country', 'pincode']\n",
      "[]\n",
      "['krish', '18', 'india', '282004']\n",
      "[]\n"
     ]
    }
   ],
   "source": [
    "import csv\n",
    "with open('student.txt','w') as text:\n",
    "    writer=csv.writer(text)\n",
    "    writer.writerow(['name','age','country','pincode'])\n",
    "    writer.writerow(['krish','18','india','282004'])\n",
    "\n",
    "\n",
    "with open('student.txt','r') as text:\n",
    "    reader=csv.reader(text)\n",
    "    for file in reader:\n",
    "        print(file)"
   ]
  },
  {
   "cell_type": "code",
   "execution_count": null,
   "id": "42e5256a",
   "metadata": {},
   "outputs": [
    {
     "name": "stdout",
     "output_type": "stream",
     "text": [
      "<__main__.student object at 0x0000029B9BFEDE80>\n",
      "adding new name\n"
     ]
    }
   ],
   "source": [
    "class student:                 #class\n",
    "      name=\"dhruv singh\"\n",
    "      def __init__(self):\n",
    "        print(self)\n",
    "        print(\"adding new name\")\n",
    "\n",
    "s1=student()          #object\n",
    "\n"
   ]
  },
  {
   "cell_type": "code",
   "execution_count": 5,
   "id": "0bd86796",
   "metadata": {},
   "outputs": [
    {
     "name": "stdout",
     "output_type": "stream",
     "text": [
      "blue\n",
      "mercedes\n"
     ]
    }
   ],
   "source": [
    "class car:\n",
    "    color=\"blue\"\n",
    "    brand=\"mercedes\"\n",
    "\n",
    "car1=car()\n",
    "print(car1.color)\n",
    "print(car1.brand)"
   ]
  },
  {
   "cell_type": "code",
   "execution_count": 89,
   "id": "f59ddcca",
   "metadata": {},
   "outputs": [
    {
     "name": "stdout",
     "output_type": "stream",
     "text": [
      "adding new name\n",
      "karan thakur 21\n",
      "adding new name\n",
      "arjun ranaa 21\n"
     ]
    }
   ],
   "source": [
    "#constructor\n",
    "class student:                          #class\n",
    "    def __init__(self,fullname,age):       #constructor\n",
    "        self.name=fullname\n",
    "        self.age=age\n",
    "        print(\"adding new name\")\n",
    "        \n",
    "\n",
    "s1=student(\"karan thakur\",21)              #object\n",
    "print(s1.name,s1.age)\n",
    "s2=student(\"arjun ranaa\",23)\n",
    "print(s2.name,s1.age)"
   ]
  },
  {
   "cell_type": "code",
   "execution_count": 86,
   "id": "2a1da13f",
   "metadata": {},
   "outputs": [
    {
     "name": "stdout",
     "output_type": "stream",
     "text": [
      "6\n"
     ]
    }
   ],
   "source": [
    "#lambda function:\n",
    "\n",
    "def __student(a,b):\n",
    "    return a+b\n",
    "addition= lambda a,b:a+b\n",
    "print(addition(2,4))"
   ]
  },
  {
   "cell_type": "code",
   "execution_count": 16,
   "id": "f35f0370",
   "metadata": {},
   "outputs": [
    {
     "name": "stdout",
     "output_type": "stream",
     "text": [
      "4500000\n"
     ]
    }
   ],
   "source": [
    "class Bankaccount:\n",
    "    def __init__(self,owner,balance=0):\n",
    "        self.owner=owner\n",
    "        self.balance=balance\n",
    "    def deposit(self,amount):\n",
    "        self.balanc+=amount\n",
    "        print(f\"{amount} is deposited. new balance is {self.balance}\")\n",
    "    def withdraw(self,amount):\n",
    "        if amount>self.balance:\n",
    "            print(\"insufficient funds\")\n",
    "        else:\n",
    "            self.balance-=amount\n",
    "            print(f\"{amount} is withdrawn.new balance is{self.balance}\")\n",
    "    def get_balance(self):\n",
    "        return self.balance\n",
    "    \n",
    "    #create aacount\n",
    "account=Bankaccount(\"krish\",4500000)\n",
    "print(account.balance)"
   ]
  },
  {
   "cell_type": "code",
   "execution_count": 17,
   "id": "5c543869",
   "metadata": {},
   "outputs": [
    {
     "name": "stdout",
     "output_type": "stream",
     "text": [
      "45000\n"
     ]
    }
   ],
   "source": [
    "class bankaccount:\n",
    "    def __init__(self,owner,balance=0):\n",
    "        self.owner=owner\n",
    "        self.balance=balance\n",
    "    def deposited(self,amount):\n",
    "        self.balance+=amount\n",
    "        print(f\"{amount} is depsoited. new balance is{self.balance}\")\n",
    "    def withdrawn(self,amount):\n",
    "        if amount>self.balance:\n",
    "            print(\"insufficient funds\")\n",
    "        else:\n",
    "            self.balance-=amount\n",
    "            print(f\"{amount} is withdrawn. new balance is{self.balance}\")\n",
    "    def get_balance(self):\n",
    "        return self.balance\n",
    "    \n",
    "account=bankaccount(\"krish\",45000)\n",
    "print(account.balance)\n",
    "\n",
    "\n",
    "        \n",
    "        "
   ]
  },
  {
   "cell_type": "code",
   "execution_count": 18,
   "id": "2b5ea756",
   "metadata": {},
   "outputs": [
    {
     "name": "stdout",
     "output_type": "stream",
     "text": [
      "50000 is depsoited. new balance is95000\n"
     ]
    }
   ],
   "source": [
    "account.deposited(50000)"
   ]
  },
  {
   "cell_type": "code",
   "execution_count": 27,
   "id": "e5ec15cf",
   "metadata": {},
   "outputs": [
    {
     "data": {
      "text/plain": [
       "74800"
      ]
     },
     "execution_count": 27,
     "metadata": {},
     "output_type": "execute_result"
    }
   ],
   "source": [
    "account.get_balance()"
   ]
  },
  {
   "cell_type": "code",
   "execution_count": 28,
   "id": "7d736d3f",
   "metadata": {},
   "outputs": [
    {
     "name": "stdout",
     "output_type": "stream",
     "text": [
      "300000 is depsoited. new balance is374800\n"
     ]
    }
   ],
   "source": [
    "account.deposited(300000)"
   ]
  },
  {
   "cell_type": "code",
   "execution_count": 29,
   "id": "0e18d216",
   "metadata": {},
   "outputs": [
    {
     "name": "stdout",
     "output_type": "stream",
     "text": [
      "200000 is withdrawn. new balance is174800\n"
     ]
    }
   ],
   "source": [
    "account.withdrawn(200000)"
   ]
  },
  {
   "cell_type": "code",
   "execution_count": 30,
   "id": "42ecb0af",
   "metadata": {},
   "outputs": [
    {
     "name": "stdout",
     "output_type": "stream",
     "text": [
      "76000 is withdrawn. new balance is98800\n"
     ]
    }
   ],
   "source": [
    "account.withdrawn(76000)"
   ]
  },
  {
   "cell_type": "code",
   "execution_count": 6,
   "id": "770f606c",
   "metadata": {},
   "outputs": [
    {
     "name": "stdout",
     "output_type": "stream",
     "text": [
      "the car engine started. it is a petrol car\n"
     ]
    }
   ],
   "source": [
    "#inheritance oops\n",
    "class car:\n",
    "    def __init__(self,window,door,enginetype):\n",
    "        self.window=window\n",
    "        self.door=door\n",
    "        self.enginetype=enginetype\n",
    "\n",
    "    def drive(self):\n",
    "        print(f\"the car engine started. it is a {self.enginetype} car\")\n",
    "\n",
    "car1=car(4,5,\"petrol\")\n",
    "car1.drive()"
   ]
  },
  {
   "cell_type": "code",
   "execution_count": null,
   "id": "32fecb5a",
   "metadata": {},
   "outputs": [],
   "source": [
    "class Bankaccount:\n",
    "    def __int__(self,owner,balance=0):\n",
    "        self.owner=owner\n",
    "        self.balance=balance\n",
    "    def deposited(self,amount):\n",
    "        self.balance+=amount\n",
    "        print(f\"{amount} is deposited. new balance is {self.balance}\")\n",
    "    def withdrawn(self,amount):\n",
    "        if amount>self.balance:\n",
    "         print(\"insufficient funds!!\")\n",
    "        else:\n",
    "           self.balance-=amount\n",
    "           print(f\"{amount} is withdrawn. new balance is {self.balance}\")\n",
    "    def get_balance(self):\n",
    "       return self.balance\n",
    "    \n",
    "account=Bankaccount (\"dhruv\",450000)\n",
    "print(account.amount)\n",
    "\n",
    "       \n",
    "\n"
   ]
  },
  {
   "cell_type": "code",
   "execution_count": 1,
   "id": "d0352e35",
   "metadata": {},
   "outputs": [
    {
     "name": "stdout",
     "output_type": "stream",
     "text": [
      "45000\n"
     ]
    }
   ],
   "source": [
    "class bankaccount:\n",
    "    def __init__(self,owner,balance=0):\n",
    "        self.owner=owner\n",
    "        self.balance=balance\n",
    "\n",
    "    def deposited(self,amount):\n",
    "        self.balance+=amount\n",
    "        print(f\"{amount} is depsoited. new balance is{self.balance}\")\n",
    "\n",
    "    def withdrawn(self,amount):\n",
    "        if amount>self.balance:\n",
    "            print(\"insufficient funds\")\n",
    "        else:\n",
    "            self.balance-=amount\n",
    "            print(f\"{amount} is withdrawn. new balance is{self.balance}\")\n",
    "            \n",
    "    def get_balance(self):\n",
    "        return self.balance\n",
    "    \n",
    "account=bankaccount(\"krish\",45000)\n",
    "print(account.balance)\n",
    "\n",
    "\n",
    "        \n",
    "        "
   ]
  },
  {
   "cell_type": "code",
   "execution_count": null,
   "id": "ab8d93b2",
   "metadata": {},
   "outputs": [
    {
     "data": {
      "text/plain": [
       "'krish'"
      ]
     },
     "execution_count": 18,
     "metadata": {},
     "output_type": "execute_result"
    }
   ],
   "source": [
    "class person:\n",
    "    def __init__(self,name,age,gender):\n",
    "        self.name=name\n",
    "        self.age=age\n",
    "\n",
    "def get_name(person):\n",
    "    return(person.name)\n",
    "\n",
    "Person=person(\"krish\",20,\"male\")\n",
    "get_name(Person)"
   ]
  },
  {
   "cell_type": "code",
   "execution_count": 20,
   "id": "cbfb4a71",
   "metadata": {},
   "outputs": [
    {
     "data": {
      "text/plain": [
       "['__class__',\n",
       " '__delattr__',\n",
       " '__dict__',\n",
       " '__dir__',\n",
       " '__doc__',\n",
       " '__eq__',\n",
       " '__firstlineno__',\n",
       " '__format__',\n",
       " '__ge__',\n",
       " '__getattribute__',\n",
       " '__getstate__',\n",
       " '__gt__',\n",
       " '__hash__',\n",
       " '__init__',\n",
       " '__init_subclass__',\n",
       " '__le__',\n",
       " '__lt__',\n",
       " '__module__',\n",
       " '__ne__',\n",
       " '__new__',\n",
       " '__reduce__',\n",
       " '__reduce_ex__',\n",
       " '__repr__',\n",
       " '__setattr__',\n",
       " '__sizeof__',\n",
       " '__static_attributes__',\n",
       " '__str__',\n",
       " '__subclasshook__',\n",
       " '__weakref__',\n",
       " 'age',\n",
       " 'name']"
      ]
     },
     "execution_count": 20,
     "metadata": {},
     "output_type": "execute_result"
    }
   ],
   "source": [
    "dir(Person)"
   ]
  },
  {
   "cell_type": "code",
   "execution_count": 21,
   "id": "160b0804",
   "metadata": {},
   "outputs": [
    {
     "data": {
      "text/plain": [
       "['__class__',\n",
       " '__delattr__',\n",
       " '__dict__',\n",
       " '__dir__',\n",
       " '__doc__',\n",
       " '__eq__',\n",
       " '__firstlineno__',\n",
       " '__format__',\n",
       " '__ge__',\n",
       " '__getattribute__',\n",
       " '__getstate__',\n",
       " '__gt__',\n",
       " '__hash__',\n",
       " '__init__',\n",
       " '__init_subclass__',\n",
       " '__le__',\n",
       " '__lt__',\n",
       " '__module__',\n",
       " '__ne__',\n",
       " '__new__',\n",
       " '__reduce__',\n",
       " '__reduce_ex__',\n",
       " '__repr__',\n",
       " '__setattr__',\n",
       " '__sizeof__',\n",
       " '__static_attributes__',\n",
       " '__str__',\n",
       " '__subclasshook__',\n",
       " '__weakref__']"
      ]
     },
     "execution_count": 21,
     "metadata": {},
     "output_type": "execute_result"
    }
   ],
   "source": [
    "dir(person)"
   ]
  },
  {
   "cell_type": "code",
   "execution_count": 34,
   "id": "ecfa438a",
   "metadata": {},
   "outputs": [
    {
     "name": "stdout",
     "output_type": "stream",
     "text": [
      "<__main__.vector object at 0x000001C1A46C1950>\n",
      "<__main__.vector object at 0x000001C1A472C8A0>\n"
     ]
    }
   ],
   "source": [
    "class vector:\n",
    "    def __init__(self,x,y):\n",
    "        self.x=x\n",
    "        self.y=y\n",
    "\n",
    "    def __add__(self,other):\n",
    "        return vector(self.x+other.x,self.y+other.y)\n",
    "    def __sub__(self,other):\n",
    "        return vector(self.x-other.x,self.y-other.y)\n",
    "    def __multi__(self,other):\n",
    "        return vector(self.x*other,self,y*other)\n",
    "    def __eq__(self,other):\n",
    "        return self.x == other.x,self.y == other.y\n",
    "    \n",
    "    def __rep__(self):\n",
    "        return f\"vector({self.x},{self.y})\"\n",
    "    \n",
    "v1=vector(3,4)\n",
    "v2=vector(5,3)\n",
    "\n",
    "print(v1+v2)\n",
    "print(v1-v2)"
   ]
  },
  {
   "cell_type": "code",
   "execution_count": 42,
   "id": "c20a85c3",
   "metadata": {},
   "outputs": [
    {
     "name": "stdout",
     "output_type": "stream",
     "text": [
      "none\n"
     ]
    }
   ],
   "source": [
    "class Error(Exception):\n",
    "    pass\n",
    "class Error(Exception):\n",
    "    pass\n",
    "\n",
    "year=int(input(\"enter the dob\"))\n",
    "age=2024-year\n",
    "\n",
    "\n",
    "if age<=30 and age>=20:\n",
    "    print(\"you can apply for exam\")\n",
    "else:\n",
    "    print(\"none\")\n",
    "      "
   ]
  },
  {
   "cell_type": "code",
   "execution_count": 6,
   "id": "5817cb8d",
   "metadata": {},
   "outputs": [
    {
     "name": "stdout",
     "output_type": "stream",
     "text": [
      "1\n",
      "2\n",
      "3\n",
      "4\n",
      "5\n",
      "6\n"
     ]
    }
   ],
   "source": [
    "list=[1,2,3,4,5,6,]\n",
    "for i in list:\n",
    "    print(i)"
   ]
  },
  {
   "cell_type": "code",
   "execution_count": 9,
   "id": "4102b5c8",
   "metadata": {},
   "outputs": [
    {
     "name": "stdout",
     "output_type": "stream",
     "text": [
      "<class 'list_iterator'>\n"
     ]
    }
   ],
   "source": [
    "iterator=iter(list)\n",
    "print(type(iterator))\n"
   ]
  },
  {
   "cell_type": "code",
   "execution_count": 15,
   "id": "ad2d63dd",
   "metadata": {},
   "outputs": [
    {
     "data": {
      "text/plain": [
       "6"
      ]
     },
     "execution_count": 15,
     "metadata": {},
     "output_type": "execute_result"
    }
   ],
   "source": [
    "next(iterator)"
   ]
  },
  {
   "cell_type": "code",
   "execution_count": 20,
   "id": "f0cbd2a3",
   "metadata": {},
   "outputs": [
    {
     "name": "stdout",
     "output_type": "stream",
     "text": [
      "1\n",
      "2\n",
      "3\n",
      "4\n",
      "5\n",
      "6\n"
     ]
    }
   ],
   "source": [
    "tuple=[1,2,3,4,5,6]\n",
    "for i in tuple:\n",
    "    print(i)"
   ]
  },
  {
   "cell_type": "code",
   "execution_count": 21,
   "id": "89f9841e",
   "metadata": {},
   "outputs": [
    {
     "name": "stdout",
     "output_type": "stream",
     "text": [
      "<class 'list_iterator'>\n"
     ]
    }
   ],
   "source": [
    "iterator=iter(tuple)\n",
    "print(type(iterator))"
   ]
  },
  {
   "cell_type": "code",
   "execution_count": 36,
   "id": "0f953908",
   "metadata": {},
   "outputs": [
    {
     "name": "stdout",
     "output_type": "stream",
     "text": [
      "1\n"
     ]
    }
   ],
   "source": [
    "iterator=iter(tuple)\n",
    "\n",
    "try:\n",
    "    print(next(iterator))\n",
    "except StopIteration:\n",
    "    print(\"there is no element remaining\")\n",
    "      \n",
    "                        \n"
   ]
  },
  {
   "cell_type": "code",
   "execution_count": 40,
   "id": "788e63bc",
   "metadata": {},
   "outputs": [],
   "source": [
    "def square(n):\n",
    "    for i in range(3):\n",
    "        yield i**2"
   ]
  },
  {
   "cell_type": "code",
   "execution_count": 41,
   "id": "baf57d0f",
   "metadata": {},
   "outputs": [
    {
     "name": "stdout",
     "output_type": "stream",
     "text": [
      "0\n",
      "1\n",
      "4\n"
     ]
    }
   ],
   "source": [
    "for i in square(3):\n",
    "    print(i)"
   ]
  },
  {
   "cell_type": "code",
   "execution_count": 43,
   "id": "3838b63b",
   "metadata": {},
   "outputs": [],
   "source": [
    "def read_file(file_path):\n",
    "    with open(file_path,'r') as file:\n",
    "        for line in file:\n",
    "            yield line"
   ]
  },
  {
   "cell_type": "code",
   "execution_count": 48,
   "id": "72d608a2",
   "metadata": {},
   "outputs": [
    {
     "name": "stdout",
     "output_type": "stream",
     "text": [
      "welcome to the advance python\n",
      "welcome everyone\n",
      "please learn these concepts properly\n"
     ]
    }
   ],
   "source": [
    "#closure fn..\n",
    "def main_welcome(msg):\n",
    "\n",
    "    def sub_welcome_method():\n",
    "        print('welcome to the advance python')\n",
    "        print(msg)\n",
    "        print('please learn these concepts properly')\n",
    "\n",
    "    return sub_welcome_method()\n",
    "\n",
    "main_welcome(\"welcome everyone\")"
   ]
  },
  {
   "cell_type": "code",
   "execution_count": 51,
   "id": "5ae83db9",
   "metadata": {},
   "outputs": [
    {
     "name": "stdout",
     "output_type": "stream",
     "text": [
      "this is a advance python course\n"
     ]
    }
   ],
   "source": [
    "def course_intro():\n",
    "    print(\"this is a advance python course\")\n",
    "course_intro()"
   ]
  },
  {
   "cell_type": "code",
   "execution_count": 49,
   "id": "2a6dcb8e",
   "metadata": {},
   "outputs": [
    {
     "name": "stdout",
     "output_type": "stream",
     "text": [
      "welcome to the advance python\n",
      "5\n",
      "please learn these concepts properly\n"
     ]
    }
   ],
   "source": [
    "def main_welcome(func,lst):\n",
    "\n",
    "    def sub_welcome_method():\n",
    "        print('welcome to the advance python')\n",
    "        print(func(lst))\n",
    "        print('please learn these concepts properly')\n",
    "\n",
    "    return sub_welcome_method()\n",
    "\n",
    "main_welcome(len,[1,2,3,4,5])"
   ]
  },
  {
   "cell_type": "code",
   "execution_count": 53,
   "id": "7bde73bf",
   "metadata": {},
   "outputs": [
    {
     "name": "stderr",
     "output_type": "stream",
     "text": [
      "DEBUG:root:this is a debug messaage\n",
      "INFO:root:this is an info message\n",
      "WARNING:root:this is a warninng message\n",
      "CRITICAL:root:this is a critical mesaage\n"
     ]
    }
   ],
   "source": [
    "import logging\n",
    "\n",
    "logging.basicConfig(level=logging.DEBUG)\n",
    "\n",
    "logging.debug(\"this is a debug messaage\")\n",
    "logging.info(\"this is an info message\")\n",
    "logging.warning('this is a warninng message')\n",
    "logging.critical(\"this is a critical mesaage\")"
   ]
  },
  {
   "cell_type": "code",
   "execution_count": 54,
   "id": "3f0adca4",
   "metadata": {},
   "outputs": [
    {
     "name": "stderr",
     "output_type": "stream",
     "text": [
      "DEBUG:root:this is a debug messaage\n",
      "INFO:root:this is an info message\n",
      "WARNING:root:this is a warninng message\n",
      "CRITICAL:root:this is a critical mesaage\n"
     ]
    }
   ],
   "source": [
    "import logging\n",
    "\n",
    "\n",
    "logging.debug(\"this is a debug messaage\")\n",
    "logging.info(\"this is an info message\")\n",
    "logging.warning('this is a warninng message')\n",
    "logging.critical(\"this is a critical mesaage\")"
   ]
  },
  {
   "cell_type": "code",
   "execution_count": 8,
   "id": "b88f7e7e",
   "metadata": {},
   "outputs": [
    {
     "name": "stdout",
     "output_type": "stream",
     "text": [
      "Total number of requirements: 43\n",
      "Number of duplicate requirements: 0\n",
      "\n",
      "No duplicate requirements found.\n"
     ]
    }
   ],
   "source": [
    "all_requirements = []\n",
    "for cluster in data:\n",
    "    all_requirements.extend(cluster[\"Requirements\"])\n",
    "\n",
    "seen_ids = set()\n",
    "duplicates = []\n",
    "for req in all_requirements:\n",
    "    if req[\"ID\"] in seen_ids:\n",
    "        duplicates.append(req)\n",
    "    else:\n",
    "        seen_ids.add(req[\"ID\"])\n",
    "\n",
    "print(\"Total number of requirements:\", len(all_requirements))\n",
    "print(\"Number of duplicate requirements:\", len(duplicates))\n",
    "\n",
    "if duplicates:\n",
    "    print(\"\\nDuplicate Requirements:\")\n",
    "    for dup in duplicates:\n",
    "        print(f\"ID: {dup['ID']}, Title: {dup['Title']}\")\n",
    "else:\n",
    "    print(\"\\nNo duplicate requirements found.\")\n",
    "\n"
   ]
  },
  {
   "cell_type": "code",
   "execution_count": null,
   "id": "959413d2",
   "metadata": {},
   "outputs": [],
   "source": [
    "data=[  \n",
    "    {  \n",
    "        \"Cluster ID\": 1,  \n",
    "        \"Cluster Name\": \"Debt Collection Practices\",  \n",
    "        \"Cluster Summary\": \"This cluster encompasses legal requirements that govern the conduct of debt collectors and collection agencies, ensuring fair practices and prohibiting deceptive actions in the collection of debts.\",  \n",
    "        \"Cluster Rationale\": \"This cluster exists to group together requirements that specifically address the ethical and legal standards that debt collectors must adhere to, preventing practices that could harm debtors or misrepresent their obligations.\",  \n",
    "        \"Requirements\": [  \n",
    "            {  \n",
    "                \"ID\": 49847,  \n",
    "                \"Title\": \"Signing Promissory Note in Excess of Debt Prohibited\",  \n",
    "                \"Score\": 1.0  \n",
    "            }, \n",
    "            {  \n",
    "                \"ID\": 24407,  \n",
    "                \"Title\": \"False Accusation of Crime Prohibited\",  \n",
    "                \"Score\": 1.0  \n",
    "            },  \n",
    "            {  \n",
    "                \"ID\": 24478,  \n",
    "                \"Title\": \"No Advertising Claim for Sale to Enforce Payment\",  \n",
    "                \"Score\": 1.0  \n",
    "            },  \n",
    "            {  \n",
    "                \"ID\": 24674,  \n",
    "                \"Title\": \"Printed Material Simulating Legal Process Prohibited \",  \n",
    "                \"Score\": 1.0  \n",
    "            },  \n",
    "            {  \n",
    "                \"ID\": 26586,  \n",
    "                \"Title\": \"No False Accusation That Debtor is Refusing to Pay Debt\",  \n",
    "                \"Score\": 1.0  \n",
    "            },  \n",
    "            {  \n",
    "                \"ID\": 69151,  \n",
    "                \"Title\": \"Collection Agency May Not Transact Business or Hold Itself Out as Debt Settlement Company\",  \n",
    "                \"Score\": 1.0  \n",
    "            },  \n",
    "            {  \n",
    "                \"ID\": 69159,  \n",
    "                \"Title\": \"Collection Agency May Not Falsify Agency Documents With Intent To Deceive\",  \n",
    "                \"Score\": 1.0  \n",
    "            },  \n",
    "            {  \n",
    "                \"ID\": 71432,  \n",
    "                \"Title\": \"Communications Simulating Legal and Judicial Process\",  \n",
    "                \"Score\": 1.0  \n",
    "            },  \n",
    "            {  \n",
    "                \"ID\": 72561,  \n",
    "                \"Title\": \"Prohibition on Misrepresentation of Legal Practice\",  \n",
    "                \"Score\": 1.0  \n",
    "            },  \n",
    "            {  \n",
    "                \"ID\": 72667,  \n",
    "                \"Title\": \"Prohibition on Misrepresentation of Family Member's Debt Obligation\",  \n",
    "                \"Score\": 1.0  \n",
    "            },  \n",
    "            {  \n",
    "                \"ID\": 116551,  \n",
    "                \"Title\": \"Collection of Time-Barred Debts\",  \n",
    "                \"Score\": 1.0  \n",
    "            },  \n",
    "            {  \n",
    "                \"ID\": 87549,  \n",
    "                \"Title\": \"Communications May Not Display Debt Information Other than Debt Collector Contact Information\",  \n",
    "                \"Score\": 1.0  \n",
    "            }  \n",
    "        ]  \n",
    "    },  \n",
    "    {  \n",
    "        \"Cluster ID\": 2,  \n",
    "        \"Cluster Name\": \"Exemptions and Bankruptcy Protections\",  \n",
    "        \"Cluster Summary\": \"This cluster includes legal provisions that outline exemptions for debtors under bankruptcy laws, protecting certain assets from creditors and ensuring basic support for debtors and their dependents.\",  \n",
    "        \"Cluster Rationale\": \"This cluster is created to group requirements that focus on the protections afforded to debtors, particularly in bankruptcy situations, ensuring that essential resources are safeguarded from creditor claims.\",  \n",
    "        \"Requirements\": [  \n",
    "            {  \n",
    "                \"ID\": 121821,  \n",
    "                \"Title\": \"Exemption of Amounts for Support and Tax Obligations\",  \n",
    "                \"Score\": 1.0  \n",
    "            },  \n",
    "            {  \n",
    "                \"ID\": 121847,  \n",
    "                \"Title\": \"Exemption from Taxation and Bankruptcy Laws\",  \n",
    "                \"Score\": 1.0  \n",
    "            },  \n",
    "            {  \n",
    "                \"ID\": 117972,  \n",
    "                \"Title\": \"Exemption Of Debtor's Interest In Real or Personal Property\",  \n",
    "                \"Score\": 1.0  \n",
    "            },  \n",
    "            {  \n",
    "                \"ID\": 91372,  \n",
    "                \"Title\": \"Property Exempt without Limitation\",  \n",
    "                \"Score\": 1.0  \n",
    "            },  \n",
    "            {  \n",
    "                \"ID\": 91391,  \n",
    "                \"Title\": \"Annuity Payments - Limited Exemption\",  \n",
    "                \"Score\": 1.0  \n",
    "            },  \n",
    "            {  \n",
    "                \"ID\": 87419,  \n",
    "                \"Title\": \"Exemption of Interest in Household Items in Bankruptcy\",  \n",
    "                \"Score\": 1.0  \n",
    "            },  \n",
    "            {  \n",
    "                \"ID\": 87470,  \n",
    "                \"Title\": \"Items in and for Household Use may be Exempt during Bankruptcy\",  \n",
    "                \"Score\": 1.0  \n",
    "            },  \n",
    "            {  \n",
    "                \"ID\": 87758,  \n",
    "                \"Title\": \"Local Police and Fire Retirement Benefits Exempt from Garnishment\",  \n",
    "                \"Score\": 1.0  \n",
    "            }  \n",
    "        ]  \n",
    "    },  \n",
    "    {  \n",
    "        \"Cluster ID\": 3,  \n",
    "        \"Cluster Name\": \"Statutes of Limitation\",  \n",
    "        \"Cluster Summary\": \"This cluster encompasses legal requirements that establish the time limits within which various types of actions must be initiated, including debt collection and breach of contract claims.\",  \n",
    "        \"Cluster Rationale\": \"This cluster is formed to group together requirements that specify the time frames for initiating legal actions, ensuring that parties are aware of their rights and obligations regarding timely claims and defenses.\",  \n",
    "        \"Requirements\": [  \n",
    "            {  \n",
    "                \"ID\": 87097,  \n",
    "                \"Title\": \"Commencement of Action Within 10 Years for Payment of Money or Property\",  \n",
    "                \"Score\": 1.0  \n",
    "            },  \n",
    "            {  \n",
    "                \"ID\": 87098,  \n",
    "                \"Title\": \"Commencement of Action Within 10 Years for Relief\",  \n",
    "                \"Score\": 1.0  \n",
    "            },  \n",
    "            {  \n",
    "                \"ID\": 87117,  \n",
    "                \"Title\": \"Accrual of Cause Of Action\",  \n",
    "                \"Score\": 1.0  \n",
    "            },  \n",
    "            {  \n",
    "                \"ID\": 87143,  \n",
    "                \"Title\": \"5 Year Statute of Limitation for Bill of Exchange or Promissory Note\",  \n",
    "                \"Score\": 1.0  \n",
    "            },  \n",
    "            {  \n",
    "                \"ID\": 87144,  \n",
    "                \"Title\": \"5-Year Statute of Limitation for Relief of Damages\",  \n",
    "                \"Score\": 1.0  \n",
    "            },  \n",
    "            {  \n",
    "                \"ID\": 87157,  \n",
    "                \"Title\": \"Four Year Statute of Limitation for Unwritten Contracts\",  \n",
    "                \"Score\": 1.0  \n",
    "            },  \n",
    "            {  \n",
    "                \"ID\": 87200,  \n",
    "                \"Title\": \"Limitation Period for Action upon Loan or Retail Installment Transaction\",  \n",
    "                \"Score\": 1.0  \n",
    "            },  \n",
    "            {  \n",
    "                \"ID\": 87340,  \n",
    "                \"Title\": \"Commencement of Action When Person Returns from the State\",  \n",
    "                \"Score\": 1.0  \n",
    "            },  \n",
    "            {  \n",
    "                \"ID\": 87378,  \n",
    "                \"Title\": \"Wyoming Exemptions not Authorized in Bankruptcy\",  \n",
    "                \"Score\": 1.0  \n",
    "            },  \n",
    "            {  \n",
    "                \"ID\": 87379,  \n",
    "                \"Title\": \"3 Years Limitation Period for Actions Upon Written or Unwritten Contracts\",  \n",
    "                \"Score\": 1.0  \n",
    "            },  \n",
    "            {  \n",
    "                \"ID\": 88462,  \n",
    "                \"Title\": \"Commencement of Action within 6 Years after Demand for Payment of Certificate of Deposit\",  \n",
    "                \"Score\": 1.0  \n",
    "            },  \n",
    "            {  \n",
    "                \"ID\": 87921,  \n",
    "                \"Title\": \"4 Year Limitation on Commencing Actions for Breach of Contract for Sale\",  \n",
    "                \"Score\": 1.0  \n",
    "            },  \n",
    "            {  \n",
    "                \"ID\": 87923,  \n",
    "                \"Title\": \"4 Year Limitation on Commencing Actions for Breach of Contract for Sale\",  \n",
    "                \"Score\": 1.0  \n",
    "            },  \n",
    "            {  \n",
    "                \"ID\": 87941,  \n",
    "                \"Title\": \"4 Year Limitation on Commencing Actions for Breach of Contract for Sale\",  \n",
    "                \"Score\": 1.0  \n",
    "            },  \n",
    "            {  \n",
    "                \"ID\": 87960,  \n",
    "                \"Title\": \"Commencement of Action within 3 Years for Breach of Warranty\",  \n",
    "                \"Score\": 1.0  \n",
    "            },  \n",
    "            {  \n",
    "                \"ID\": 87983,  \n",
    "                \"Title\": \"Commencement of Action within Stipulated Time After Dishonor of Draft\",  \n",
    "                \"Score\": 1.0  \n",
    "            },  \n",
    "            {  \n",
    "                \"ID\": 88006,  \n",
    "                \"Title\": \"Commencement of Action within 6 Years to Enforce the Obligation of Party\",  \n",
    "                \"Score\": 1.0  \n",
    "            },  \n",
    "            {  \n",
    "                \"ID\": 88058,  \n",
    "                \"Title\": \"Commencement of Action within 3 Years After the Payment is Made to the Issuer\",  \n",
    "                \"Score\": 1.0  \n",
    "            },  \n",
    "            {  \n",
    "                \"ID\": 88060,  \n",
    "                \"Title\": \"Commencement of Action within 6 Years After the Date of Acceptance\",  \n",
    "                \"Score\": 1.0  \n",
    "            },  \n",
    "            {  \n",
    "                \"ID\": 88071,  \n",
    "                \"Title\": \"Commencement of Action within 6 Years to Enforce the Obligation of Party\",  \n",
    "                \"Score\": 1.0  \n",
    "            },  \n",
    "            {  \n",
    "                \"ID\": 88663,  \n",
    "                \"Title\": \"Commencement of Action within Stipulated Time after Dishonor of Draft\",  \n",
    "                \"Score\": 1.0  \n",
    "            },  \n",
    "            {  \n",
    "                \"ID\": 88758,  \n",
    "                \"Title\": \"Commencement Of Action Within 3 Years for Breach Of Warranty\",  \n",
    "                \"Score\": 1.0  \n",
    "            },  \n",
    "            {  \n",
    "                \"ID\": 88782,  \n",
    "                \"Title\": \"6 Year Limitation on Commencing Actions for Breach of Contract for Sale\",  \n",
    "                \"Score\": 1.0  \n",
    "            }  \n",
    "        ]  \n",
    "    }  \n",
    "]\n",
    "\n",
    "\n"
   ]
  },
  {
   "cell_type": "code",
   "execution_count": 30,
   "id": "2c18024f",
   "metadata": {},
   "outputs": [
    {
     "name": "stdout",
     "output_type": "stream",
     "text": [
      "Cluster ID 1 (Debt Collection Practices): 12\n",
      "Cluster ID 2 (Exemptions and Bankruptcy Protections): 8\n",
      "Cluster ID 3 (Statutes of Limitation): 23\n",
      "total number of cluster: 3\n",
      "Total number of requirements: 43\n",
      "Number of duplicate requirements: 0\n"
     ]
    }
   ],
   "source": [
    "all_requirements = []\n",
    "cluster=[]\n",
    "for cluster in data:\n",
    "    all_requirements.extend(cluster[\"Requirements\"])\n",
    "    ids = [req['ID'] for req in cluster['Requirements']]\n",
    "    print(f\"Cluster ID {cluster['Cluster ID']} ({cluster['Cluster Name']}): {len(cluster['Requirements'])}\")\n",
    "\n",
    "cluster = {cluster['Cluster ID']: set(req['ID'] for req in cluster['Requirements']) for cluster in data}\n",
    "    \n",
    "ids = set()\n",
    "duplicates = []\n",
    "for req in all_requirements:\n",
    "    if req[\"ID\"] in ids:\n",
    "        duplicates.append(req)\n",
    "    else:\n",
    "        ids.add(req[\"ID\"])\n",
    "\n",
    "print(\"total number of cluster:\",len(cluster))\n",
    "print(\"Total number of requirements:\", len(all_requirements))\n",
    "print(\"Number of duplicate requirements:\", len(duplicates))\n",
    "\n",
    "if duplicates:\n",
    "    print(\"\\nDuplicate Requirements:\")\n",
    "    for dup in duplicates:\n",
    "        print(f\"ID: {dup['ID']}, Title: {dup['Title']}\")"
   ]
  },
  {
   "cell_type": "code",
   "execution_count": null,
   "id": "c51c5fbe",
   "metadata": {},
   "outputs": [
    {
     "name": "stdout",
     "output_type": "stream",
     "text": [
      "500000\n"
     ]
    }
   ],
   "source": [
    "class bankaccount:\n",
    "    def __init__(self,owner,balance=0):\n",
    "        self.owner=owner\n",
    "        self.balance=balance\n",
    "    \n",
    "    def deposiited(self,amount):\n",
    "        self.balance=self.balance+amount\n",
    "        print(f\"{amount} is deposited. new balance is {self.balance}\")\n",
    "\n",
    "    def withdrawn(self,amount):\n",
    "        if amount>self.balance:\n",
    "            print(\"insufficient funds\")\n",
    "        else:\n",
    "            self.balance-=amount\n",
    "            print(f\"{amount} is withdraw. new balance is {self.balance}\")\n",
    "    def get_balance(self):\n",
    "        return self.balance\n",
    "account=bankaccount(\"dhruv thakur\",500000)\n",
    "print(account.balance)"
   ]
  },
  {
   "cell_type": "code",
   "execution_count": 16,
   "id": "83782a0f",
   "metadata": {},
   "outputs": [
    {
     "name": "stdout",
     "output_type": "stream",
     "text": [
      "Archana 800000\n"
     ]
    }
   ],
   "source": [
    "class bankaccount:\n",
    "    def __init__(self,owner,balance=0):\n",
    "        self.owner=owner\n",
    "        self.balance=balance\n",
    "    \n",
    "    def deposited(self,amount):\n",
    "        self.balance=self.balance+amount\n",
    "        print(f\"{amount} is deposited. new balance is {self.baalnce}\")\n",
    "\n",
    "    def withdraw(self,amount):\n",
    "        self.balance-=amount\n",
    "        print(f\"{amount} is withdraw. new balance is {self.balance}\")\n",
    "\n",
    "    def get_balance(self):\n",
    "        return self.balance\n",
    "    \n",
    "account=bankaccount(\"Archana\",800000)\n",
    "print(account.owner,account.balance)\n",
    "        "
   ]
  },
  {
   "cell_type": "code",
   "execution_count": 7,
   "id": "ea71d6ec",
   "metadata": {},
   "outputs": [
    {
     "name": "stdout",
     "output_type": "stream",
     "text": [
      "600000 is deposited. new balance is 1100000\n"
     ]
    }
   ],
   "source": [
    "account.deposiited(600000)"
   ]
  },
  {
   "cell_type": "code",
   "execution_count": 9,
   "id": "cbdbd6d6",
   "metadata": {},
   "outputs": [
    {
     "name": "stdout",
     "output_type": "stream",
     "text": [
      "400000 is withdraw. new balance is 700000\n"
     ]
    }
   ],
   "source": [
    "account.withdrawn(400000)"
   ]
  },
  {
   "cell_type": "code",
   "execution_count": 3,
   "id": "9b8d3769",
   "metadata": {},
   "outputs": [
    {
     "data": {
      "text/plain": [
       "0.046875"
      ]
     },
     "execution_count": 3,
     "metadata": {},
     "output_type": "execute_result"
    }
   ],
   "source": [
    "x=range(1,10000)\n",
    "for i in x:\n",
    "    #print(i*2)\n",
    "\n",
    " import sys\n",
    "sys.getsizeof(x)/1024"
   ]
  },
  {
   "cell_type": "code",
   "execution_count": 4,
   "id": "3e20d42d",
   "metadata": {},
   "outputs": [],
   "source": [
    "def khud_ka_loop(iterable):\n",
    "    iterator=iter(iterable)\n",
    "\n",
    "    while True:\n",
    "\n",
    "        try:\n",
    "            print(next(iterator))\n",
    "        except StopIteration:\n",
    "            break\n"
   ]
  },
  {
   "cell_type": "code",
   "execution_count": 10,
   "id": "986c73dd",
   "metadata": {},
   "outputs": [
    {
     "name": "stdout",
     "output_type": "stream",
     "text": [
      "0\n",
      "1\n"
     ]
    }
   ],
   "source": [
    "a=[1,2,3]\n",
    "b=range(1,11)\n",
    "c=(1,2,3)\n",
    "d={1,2,3}\n",
    "e={0:1,1:1}\n",
    "khud_ka_loop(e)"
   ]
  },
  {
   "cell_type": "code",
   "execution_count": 12,
   "id": "842baa05",
   "metadata": {},
   "outputs": [],
   "source": [
    "def khud_ka_python_loop(iterable):\n",
    "    iterator=iter(iterable)\n",
    "\n",
    "    while True:\n",
    "\n",
    "        try:\n",
    "            print(next(iterator))\n",
    "\n",
    "        except StopIteration:\n",
    "            break"
   ]
  },
  {
   "cell_type": "code",
   "execution_count": 14,
   "id": "949ebea9",
   "metadata": {},
   "outputs": [
    {
     "name": "stdout",
     "output_type": "stream",
     "text": [
      "1\n",
      "7\n"
     ]
    }
   ],
   "source": [
    "a={1:5,7:10}\n",
    "b=[1,2,3,4,5]\n",
    "khud_ka_python_loop(a)"
   ]
  },
  {
   "cell_type": "code",
   "execution_count": 27,
   "id": "d61c78f4",
   "metadata": {},
   "outputs": [
    {
     "name": "stdout",
     "output_type": "stream",
     "text": [
      "2\n",
      "4\n",
      "8\n",
      "10\n",
      "12\n"
     ]
    }
   ],
   "source": [
    "num=[1,2,4,5,6]\n",
    "for i in num:\n",
    "    print(i*2)\n",
    "\n",
    "    import sys\n",
    "    sys.getsizeof(num)/1024"
   ]
  },
  {
   "cell_type": "code",
   "execution_count": 35,
   "id": "4858f2ca",
   "metadata": {},
   "outputs": [
    {
     "name": "stdout",
     "output_type": "stream",
     "text": [
      "True\n"
     ]
    },
    {
     "data": {
      "text/plain": [
       "0.4375"
      ]
     },
     "execution_count": 35,
     "metadata": {},
     "output_type": "execute_result"
    }
   ],
   "source": [
    "x= i in range(1,10000)\n",
    "print(x)\n",
    "\n",
    "import sys\n",
    "\n",
    "sys.getsizeof(x)/64"
   ]
  },
  {
   "cell_type": "code",
   "execution_count": 40,
   "id": "223892f8",
   "metadata": {},
   "outputs": [
    {
     "data": {
      "text/plain": [
       "28"
      ]
     },
     "execution_count": 40,
     "metadata": {},
     "output_type": "execute_result"
    }
   ],
   "source": [
    "l=[x for x in range(100000)]\n",
    "#for i in l:\n",
    "   # print(i*82)\n",
    "\n",
    "import sys\n",
    "sys.getsizeof(i)"
   ]
  },
  {
   "cell_type": "code",
   "execution_count": 45,
   "id": "b6c12fd8",
   "metadata": {},
   "outputs": [
    {
     "name": "stdout",
     "output_type": "stream",
     "text": [
      "first statement\n",
      "second statement\n",
      "third statement\n"
     ]
    }
   ],
   "source": [
    "def gen_demo():\n",
    "    yield \"first statement\"\n",
    "    yield \"second statement\"\n",
    "    yield \"third statement\"\n",
    "gen=gen_demo()\n",
    "print(next(gen))\n",
    "print(next(gen))\n",
    "print(next(gen))\n"
   ]
  },
  {
   "cell_type": "code",
   "execution_count": 47,
   "id": "177eb2e0",
   "metadata": {},
   "outputs": [
    {
     "name": "stdout",
     "output_type": "stream",
     "text": [
      "first statement\n",
      "second statement\n",
      "third statement\n"
     ]
    }
   ],
   "source": [
    "def gen_demo():\n",
    "    yield \"first statement\"\n",
    "    yield \"second statement\"\n",
    "    yield \"third statement\"\n",
    "gen=gen_demo()\n",
    "for i in gen:\n",
    "    print(i)"
   ]
  },
  {
   "cell_type": "code",
   "execution_count": 60,
   "id": "34b11ea6",
   "metadata": {},
   "outputs": [
    {
     "name": "stdout",
     "output_type": "stream",
     "text": [
      "22\n",
      "44\n",
      "66\n",
      "88\n",
      "110\n",
      "132\n",
      "154\n",
      "176\n",
      "198\n",
      "220\n"
     ]
    }
   ],
   "source": [
    "def square(num):\n",
    "    for i in range(1,num+1):\n",
    "        print(i*22) \n",
    "gen=square(10)\n",
    "\n",
    "        \n",
    "\n",
    "        \n"
   ]
  },
  {
   "cell_type": "code",
   "execution_count": 63,
   "id": "92b98293",
   "metadata": {},
   "outputs": [
    {
     "name": "stdout",
     "output_type": "stream",
     "text": [
      "10\n",
      "11\n",
      "12\n",
      "13\n",
      "14\n",
      "15\n",
      "16\n",
      "17\n",
      "18\n",
      "19\n",
      "20\n",
      "21\n",
      "22\n",
      "23\n",
      "24\n",
      "25\n",
      "26\n",
      "27\n",
      "28\n",
      "29\n"
     ]
    }
   ],
   "source": [
    "def mera_khud_ka_code(start,end):\n",
    "     for i in range(start,end):\n",
    "          yield i \n",
    "\n",
    "for i in mera_khud_ka_code(10,30):\n",
    "     print(i)"
   ]
  },
  {
   "cell_type": "code",
   "execution_count": 64,
   "id": "f6478589",
   "metadata": {},
   "outputs": [],
   "source": [
    "def khud_ka_loop(iterable):\n",
    "    iterator=iter(iterable)\n",
    "\n",
    "    while True:\n",
    "\n",
    "        try:\n",
    "            print(next(iterator))\n",
    "        except:\n",
    "            break"
   ]
  },
  {
   "cell_type": "code",
   "execution_count": 66,
   "id": "33b27df2",
   "metadata": {},
   "outputs": [
    {
     "name": "stdout",
     "output_type": "stream",
     "text": [
      "1\n",
      "2\n",
      "3\n",
      "4\n",
      "5\n",
      "6\n"
     ]
    }
   ],
   "source": [
    "a=[1,2,3,4,5,6]\n",
    "khud_ka_loop(a)"
   ]
  },
  {
   "cell_type": "code",
   "execution_count": 82,
   "id": "4fbba17b",
   "metadata": {},
   "outputs": [],
   "source": [
    "def square():\n",
    "        yield i**2\n",
    "        for i in range(1,5):\n",
    "             gen=square(10)\n",
    "             print(gen)\n",
    "      \n",
    "       "
   ]
  },
  {
   "cell_type": "code",
   "execution_count": 84,
   "id": "a2e12df2",
   "metadata": {},
   "outputs": [
    {
     "name": "stdout",
     "output_type": "stream",
     "text": [
      "first statement\n"
     ]
    }
   ],
   "source": [
    "def gen_demo():\n",
    "    yield \"first statement\"\n",
    "gen=gen_demo()\n",
    "for i in gen:\n",
    "    print(i)"
   ]
  },
  {
   "cell_type": "code",
   "execution_count": 91,
   "id": "8bb9956a",
   "metadata": {},
   "outputs": [
    {
     "name": "stdout",
     "output_type": "stream",
     "text": [
      "you are the best\n"
     ]
    }
   ],
   "source": [
    "def gen_sum():\n",
    "    yield \"you are the best\"\n",
    "gen=gen_sum()\n",
    "for i in gen:\n",
    "    print(i)"
   ]
  },
  {
   "cell_type": "code",
   "execution_count": 98,
   "id": "7f7f82cd",
   "metadata": {},
   "outputs": [
    {
     "data": {
      "text/plain": [
       "2"
      ]
     },
     "execution_count": 98,
     "metadata": {},
     "output_type": "execute_result"
    }
   ],
   "source": [
    "def all_evens():\n",
    "    n=0\n",
    "    while True:\n",
    "        yield n\n",
    "        n+=2\n",
    "allprime=all_evens()\n",
    "next(allprime)\n",
    "next(allprime)"
   ]
  },
  {
   "cell_type": "code",
   "execution_count": 104,
   "id": "baf02396",
   "metadata": {},
   "outputs": [
    {
     "name": "stdout",
     "output_type": "stream",
     "text": [
      "1\n",
      "2\n",
      "3\n",
      "4\n"
     ]
    }
   ],
   "source": [
    "def self_loop(iterable):\n",
    "    iterator=iter(iterable)\n",
    "    while True:\n",
    "        try:\n",
    "            print(next(iterator))\n",
    "        except StopIteration:\n",
    "            break\n",
    "\n",
    "\n",
    "\n",
    "        a=[1,2,3,4]\n",
    "\n",
    "self_loop(a)"
   ]
  },
  {
   "cell_type": "code",
   "execution_count": 10,
   "id": "1bb66b5d",
   "metadata": {},
   "outputs": [
    {
     "data": {
      "text/plain": [
       "'odd'"
      ]
     },
     "execution_count": 10,
     "metadata": {},
     "output_type": "execute_result"
    }
   ],
   "source": [
    "def even_num(i):\n",
    "   \n",
    "    if i%2==0:\n",
    "        return 'even'   \n",
    "    else:\n",
    "        return 'odd'\n",
    "\n",
    "even_num(31)"
   ]
  },
  {
   "cell_type": "code",
   "execution_count": 11,
   "id": "b8b85c72",
   "metadata": {},
   "outputs": [
    {
     "data": {
      "text/plain": [
       "8"
      ]
     },
     "execution_count": 11,
     "metadata": {},
     "output_type": "execute_result"
    }
   ],
   "source": [
    "def power(a,b):\n",
    "    return (a**b)\n",
    "\n",
    "power(2,3)"
   ]
  },
  {
   "cell_type": "code",
   "execution_count": 13,
   "id": "480652d3",
   "metadata": {},
   "outputs": [
    {
     "data": {
      "text/plain": [
       "31"
      ]
     },
     "execution_count": 13,
     "metadata": {},
     "output_type": "execute_result"
    }
   ],
   "source": [
    "def power(a,b,c,d):\n",
    "    return(a//b+c**d)\n",
    "\n",
    "power(8,2,3,3)"
   ]
  },
  {
   "cell_type": "code",
   "execution_count": 24,
   "id": "b5616239",
   "metadata": {},
   "outputs": [
    {
     "data": {
      "text/plain": [
       "12"
      ]
     },
     "execution_count": 24,
     "metadata": {},
     "output_type": "execute_result"
    }
   ],
   "source": [
    "def power(a=3,b=4):\n",
    "    return a*b\n",
    "\n",
    "power()\n"
   ]
  },
  {
   "cell_type": "code",
   "execution_count": 25,
   "id": "4c1284db",
   "metadata": {},
   "outputs": [
    {
     "data": {
      "text/plain": [
       "8"
      ]
     },
     "execution_count": 25,
     "metadata": {},
     "output_type": "execute_result"
    }
   ],
   "source": [
    "def power(a,b):\n",
    "    return a**b\n",
    "power(b=3,a=2)"
   ]
  },
  {
   "cell_type": "code",
   "execution_count": 7,
   "id": "6a7441f8",
   "metadata": {},
   "outputs": [
    {
     "data": {
      "text/plain": [
       "362880"
      ]
     },
     "execution_count": 7,
     "metadata": {},
     "output_type": "execute_result"
    }
   ],
   "source": [
    "def multiply(*player):\n",
    "    product=1\n",
    "\n",
    "    for i in player:\n",
    "        product=product*i\n",
    "\n",
    "    return product\n",
    "\n",
    "multiply(1,2,3,4,5,6,7,8,9)"
   ]
  },
  {
   "cell_type": "code",
   "execution_count": 8,
   "id": "651b4ffb",
   "metadata": {},
   "outputs": [
    {
     "data": {
      "text/plain": [
       "24"
      ]
     },
     "execution_count": 8,
     "metadata": {},
     "output_type": "execute_result"
    }
   ],
   "source": [
    "def multiply(*kwargs):\n",
    "    product=1\n",
    "\n",
    "    for i in kwargs:\n",
    "        product=product*i\n",
    "\n",
    "    return product\n",
    "\n",
    "multiply(1,2,3,4)"
   ]
  },
  {
   "cell_type": "code",
   "execution_count": 9,
   "id": "b76170ee",
   "metadata": {},
   "outputs": [
    {
     "data": {
      "text/plain": [
       "362880"
      ]
     },
     "execution_count": 9,
     "metadata": {},
     "output_type": "execute_result"
    }
   ],
   "source": [
    "def product(*args):\n",
    "    multiply=1\n",
    "\n",
    "    for i in args:\n",
    "        multiply=multiply*i\n",
    "\n",
    "    return multiply\n",
    "\n",
    "product(1,2,3,4,5,6,7,8,9)"
   ]
  },
  {
   "cell_type": "code",
   "execution_count": 1,
   "id": "9bd66ec8",
   "metadata": {},
   "outputs": [
    {
     "name": "stdout",
     "output_type": "stream",
     "text": [
      "even\n"
     ]
    }
   ],
   "source": [
    "def multiply(num):\n",
    "    if num%2==0:\n",
    "        print(\"even\")\n",
    "    else:\n",
    "        print(\"odd\")\n",
    "multiply(56)"
   ]
  },
  {
   "cell_type": "code",
   "execution_count": 2,
   "id": "b9d66827",
   "metadata": {},
   "outputs": [
    {
     "name": "stdout",
     "output_type": "stream",
     "text": [
      "subscribe to dhruv python\n",
      "subscribe to dhruv python\n",
      "subscribe to dhruv python\n"
     ]
    }
   ],
   "source": [
    "youtuber=\"dhruv python\"\n",
    "print(\"subscribe to \" + youtuber)\n",
    "print(\"subscribe to {}\".format(youtuber))\n",
    "print(f\"subscribe to {youtuber}\")"
   ]
  },
  {
   "cell_type": "code",
   "execution_count": null,
   "id": "fad617d8",
   "metadata": {},
   "outputs": [
    {
     "name": "stdout",
     "output_type": "stream",
     "text": [
      " computer programming is so easy so we can easily code in python or vscode and i love to do it.stay hydrated and cool\n"
     ]
    }
   ],
   "source": [
    "#1Madlibs\n",
    "adj=input(\"adjective\")\n",
    "verb1=input(\"verb1\")\n",
    "verb2= input(\"verb2\")\n",
    "meta= f\" computer programming is so {adj} so we can easily code in python or vscode and i love to {verb1}.stay hydrated and {verb2}\"\n",
    "print(meta)"
   ]
  },
  {
   "cell_type": "code",
   "execution_count": null,
   "id": "cab77b29",
   "metadata": {},
   "outputs": [
    {
     "name": "stdout",
     "output_type": "stream",
     "text": [
      "sorry try again.to low\n",
      "sorry try again.to low\n",
      "congrats u guess the right number{random_number}!!\n"
     ]
    }
   ],
   "source": [
    "#2 guess the number(computer)\n",
    "#we use randint func to guess the number \n",
    "import random\n",
    "def guest(x):\n",
    "    random_number=random.randint(1,x)\n",
    "    guest=0\n",
    "    while guest!=random_number:\n",
    "        guest=int(input(f\"guess the number b/w 1 and {x}:\"))\n",
    "        if guest < random_number:\n",
    "            print(\"sorry try again. to high\")\n",
    "        elif guest > random_number:\n",
    "            print(\"sorry try again.to low\")\n",
    "    print(\"congrats u guess the right number{random_number}!!\")\n",
    "guest(10)\n",
    "\n",
    "\n",
    "\n",
    "\n",
    " "
   ]
  },
  {
   "cell_type": "code",
   "execution_count": null,
   "id": "595d9a5a",
   "metadata": {},
   "outputs": [],
   "source": [
    "#3 guess the number(user)\n",
    "import random\n",
    "def guess(x):\n",
    "    random_number=random.randint(1,x)\n",
    "    guess=0\n",
    "    while guest!=random_number:\n",
    "        guest=int(input(f\"guess the number b/w 1 and {x}:\"))\n",
    "        if guess < random_number:\n",
    "            print(\"sorry try again. to high\")\n",
    "        elif guess > random_number:\n",
    "            print(\"sorry try again.to low\")\n",
    "    print(\"congrats u guess the right number{random_number}!!\")\n",
    "\n",
    "def computer__guess(x):\n",
    "    low=1\n",
    "    high=x\n",
    "    feedback=''\n",
    "    while feedback !='c':\n",
    "        if low != high:\n",
    "            guess=random.randint(low,high)\n",
    "        else:\n",
    "            guess=low\n",
    "        feedback=input(f'is {guess} too high (H),too low(L),or correct (c)')\n",
    "        if feedback=='H':\n",
    "            high= guess-1\n",
    "        elif feedback =='l':\n",
    "            low= guess+1\n",
    "    print('yay! the computer guess the number, {guess},correctly!')\n",
    "computer__guess(10)\n",
    "        \n",
    "\n"
   ]
  },
  {
   "cell_type": "code",
   "execution_count": null,
   "id": "414a0cf0",
   "metadata": {},
   "outputs": [
    {
     "ename": "IndentationError",
     "evalue": "unindent does not match any outer indentation level (<string>, line 17)",
     "output_type": "error",
     "traceback": [
      "  \u001b[36mFile \u001b[39m\u001b[32m<string>:17\u001b[39m\n\u001b[31m    \u001b[39m\u001b[31mdef is_win(player,opponent):\u001b[39m\n                                ^\n\u001b[31mIndentationError\u001b[39m\u001b[31m:\u001b[39m unindent does not match any outer indentation level\n"
     ]
    }
   ],
   "source": [
    "#4 rock paper scissors\n",
    "import random\n",
    "def play():\n",
    "     user=input(\"what's your choice? 'r' for rock,'p' for paper,'s' for scissor\")\n",
    "     computer=random.choice(['r','p','s'])\n",
    "     if user == computer:\n",
    "         return 'it\\'s a tie'\n",
    "         \n",
    "     if is_win(user,computer):\n",
    "        return 'you win!'\n",
    "     \n",
    "\n",
    "         \n",
    "     return 'you lost!'\n",
    "     \n",
    "\n",
    "\n",
    " def is_win(player,opponent):\n",
    "   if (player =='r' and opponent =='s') or (player =='s' and opponent =='p') \\\n",
    "    or (player =='p' and opponent =='r'):\n",
    "      return True\n",
    "   play()\n",
    "   "
   ]
  },
  {
   "cell_type": "code",
   "execution_count": null,
   "id": "140ecd29",
   "metadata": {},
   "outputs": [],
   "source": [
    "#4 rock paper scissors\n",
    "import random\n",
    "def play():\n",
    "     user=input(\"what's your choice? 'r' for rock,'p' for paper,'s' for scissor\")\n",
    "     computer=random.choice(['r','p','s'])\n",
    "     if user == computer:\n",
    "         return 'it\\'s a tie'\n",
    "         \n",
    "     if is_win(user,computer):\n",
    "        return 'you win!'\n",
    "     \n",
    "\n",
    "         \n",
    "     return 'you lost!'\n",
    "     \n",
    "\n",
    " def is_win(player,opponent):\n",
    "   if (player =='r' and opponent =='s') or (player =='s' and opponent =='p') \\\n",
    "    or (player =='p' and opponent =='r'):\n",
    "      return True\n",
    "   play()\n",
    "   "
   ]
  }
 ],
 "metadata": {
  "kernelspec": {
   "display_name": "Python 3",
   "language": "python",
   "name": "python3"
  },
  "language_info": {
   "codemirror_mode": {
    "name": "ipython",
    "version": 3
   },
   "file_extension": ".py",
   "mimetype": "text/x-python",
   "name": "python",
   "nbconvert_exporter": "python",
   "pygments_lexer": "ipython3",
   "version": "3.13.2"
  }
 },
 "nbformat": 4,
 "nbformat_minor": 5
}
